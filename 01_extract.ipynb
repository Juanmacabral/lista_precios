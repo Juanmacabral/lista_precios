{
 "cells": [
  {
   "cell_type": "markdown",
   "id": "9423e840",
   "metadata": {},
   "source": [
    "A tener en cuenta:\n",
    "\n",
    "TS: falta automatizar deteccion de cantidad de planillas en el archivo. falta documentar\n",
    "dexa: Ok proceso de descarga. falta documentar\n",
    "Selnet: EL proceso esta OK, tengo problemas para cambiarle el nombre al archivo (se rompe si lo hago)"
   ]
  },
  {
   "cell_type": "code",
   "execution_count": 4,
   "id": "b8afc5de",
   "metadata": {},
   "outputs": [],
   "source": [
    "import selenium\n",
    "from selenium.webdriver.common.keys import Keys\n",
    "from selenium.webdriver.chrome.options import Options\n",
    "from selenium import webdriver\n",
    "from selenium.webdriver.chrome.service import Service as ChromeService\n",
    "from webdriver_manager.chrome import ChromeDriverManager\n",
    "from selenium.webdriver.common.by import By\n",
    "from selenium.webdriver.common.action_chains import ActionChains\n",
    "import os\n",
    "from datetime import datetime\n",
    "import zipfile\n",
    "import gspread\n",
    "from oauth2client.service_account import ServiceAccountCredentials\n",
    "import pandas as pd\n",
    "import json\n",
    "from openpyxl import Workbook\n",
    "import re\n",
    "import pickle"
   ]
  },
  {
   "cell_type": "code",
   "execution_count": 23,
   "id": "c04e82c0",
   "metadata": {},
   "outputs": [],
   "source": [
    "# Obtén el directorio de trabajo actual\n",
    "project_folder = os.getcwd()\n",
    "download_folder = os.path.join(project_folder, \"C:\\\\Users\\\\Juan M Cabral\\\\Desktop\\\\Pycharm\\\\lista_de_precios_axon\\\\rawdata\")"
   ]
  },
  {
   "cell_type": "code",
   "execution_count": 3,
   "id": "9559906d",
   "metadata": {},
   "outputs": [],
   "source": [
    "# Ruta al archivo JSON de las credenciales de tu cuenta de servicio\n",
    "credentials_file = 'listadeprecios-rocnet-2ebb9564fd3b.json'"
   ]
  },
  {
   "cell_type": "code",
   "execution_count": 4,
   "id": "65951108",
   "metadata": {},
   "outputs": [],
   "source": [
    "#TS y SAWERIN"
   ]
  },
  {
   "cell_type": "code",
   "execution_count": 26,
   "id": "5f44a3b5",
   "metadata": {},
   "outputs": [],
   "source": [
    "\n",
    "# Lista de enlaces a los spreadsheets de Google Sheets\n",
    "links = [\n",
    "    'https://docs.google.com/spreadsheets/d/1E9oFbOPCYIEqZO7rOOC9Qbk46HwgGO-V_qwLaww5USY/edit#gid=1458627182',\n",
    "    'https://docs.google.com/spreadsheets/d/1UQpngaO_VisWIe8xel0Kp5uuq21COWFF-W7deek6oXs/edit#gid=2'\n",
    "]\n",
    "\n",
    "# Nombres de archivo correspondientes a cada enlace\n",
    "file_names = ['ts.xlsx', 'sawerin.xlsx']\n",
    "\n",
    "# Autenticación del cliente utilizando las credenciales de tu cuenta de servicio\n",
    "credentials = ServiceAccountCredentials.from_json_keyfile_name(credentials_file)\n",
    "client = gspread.authorize(credentials)\n",
    "\n",
    "# Función para reemplazar caracteres no válidos en el título de la hoja de cálculo\n",
    "def clean_sheet_title(title):\n",
    "    cleaned_title = re.sub(r'[\\\\/?:\\[\\]]', '', title)\n",
    "    return cleaned_title[:31]\n",
    "\n",
    "# Procesar cada enlace y generar los archivos correspondientes\n",
    "for i, link in enumerate(links):\n",
    "    # Abrir el spreadsheet y obtener la lista de hojas de cálculo\n",
    "    spreadsheet = client.open_by_url(link)\n",
    "    sheet_list = spreadsheet.worksheets()\n",
    "\n",
    "    # Crear un nuevo libro de Excel\n",
    "    workbook = Workbook()\n",
    "\n",
    "    # Para cada hoja de cálculo en sheet_list\n",
    "    for sheet in sheet_list:\n",
    "        # Obtener un título limpio para la hoja de cálculo\n",
    "        sheet_title = clean_sheet_title(sheet.title)\n",
    "\n",
    "        # Crear una nueva hoja en el libro de Excel con el título limpio\n",
    "        worksheet = workbook.create_sheet(title=sheet_title)\n",
    "\n",
    "        # Obtener los valores de la hoja de cálculo\n",
    "        values = sheet.get_all_values()\n",
    "\n",
    "        # Llenar la hoja de cálculo con los valores\n",
    "        for row in values:\n",
    "            worksheet.append(row)\n",
    "\n",
    "    # Eliminar la hoja de cálculo por defecto (Sheet)\n",
    "    default_sheet = workbook['Sheet']\n",
    "    workbook.remove(default_sheet)\n",
    "\n",
    "    # Obtener el nombre del archivo basado en el enlace\n",
    "    filename = file_names[i]\n",
    "    \n",
    "    # Ruta completa del archivo de destino\n",
    "    file_path = os.path.join(download_folder, filename)\n",
    "\n",
    "    # Guardar el libro de Excel en un archivo .xlsx\n",
    "    workbook.save(file_path)\n",
    "\n"
   ]
  },
  {
   "cell_type": "code",
   "execution_count": 6,
   "id": "6ccc3825",
   "metadata": {},
   "outputs": [],
   "source": [
    "with open(\"credenciales.json\") as archivo:\n",
    "    credenciales = json.load(archivo)"
   ]
  },
  {
   "cell_type": "code",
   "execution_count": 17,
   "id": "effca7d0",
   "metadata": {},
   "outputs": [],
   "source": [
    "user = credenciales[\"user\"]\n",
    "password = credenciales[\"password\"]\n",
    "\n",
    "# Configurar el Webdriver\n",
    "options = Options()\n",
    "options.add_experimental_option(\"detach\", True)\n",
    "prefs = {\n",
    "    \"download.default_directory\": download_folder\n",
    "}\n",
    "options.add_experimental_option(\"prefs\", prefs)\n",
    "\n",
    "driver = webdriver.Chrome(service=ChromeService(ChromeDriverManager().install()), options=options)\n",
    "\n",
    "driver.get(\"https://www.dexa.net.ar/productos/catalogo\")\n",
    "driver.implicitly_wait(3)\n",
    "\n",
    "user_input = driver.find_element(by=By.NAME, value=\"data[Usuario][login]\")\n",
    "user_input.send_keys(user)\n",
    "\n",
    "user_input = driver.find_element(by=By.NAME, value=\"data[Usuario][password]\")\n",
    "user_input.send_keys(password)\n",
    "\n",
    "driver.find_element(by=By.XPATH, value='//button[@class=\"btn btn-primary\" and text()=\"Ingresar\"]').click()\n",
    "time.sleep(4)\n",
    "\n",
    "dropdown = driver.find_element(by=By.LINK_TEXT, value='Productos')\n",
    "\n",
    "# Hacer clic en el elemento de lista desplegable\n",
    "dropdown.click()\n",
    "\n",
    "# Esperar a que aparezcan las opciones del menú desplegable\n",
    "time.sleep(3)\n",
    "\n",
    "driver.find_element(by=By.XPATH, value='//a[contains(text(), \"Exportar lista de precios\")]').click()\n",
    "time.sleep(3)\n",
    "driver.find_element(By.XPATH, '//button[contains(.,\"Descargar lista de precios\")]').click()\n",
    "time.sleep(15)\n",
    "\n",
    "fecha_actual = datetime.now().strftime(\"%d_%m_%Y\")\n",
    "\n",
    "# Especificar el nombre del archivo descargado\n",
    "nombre_archivo_descargado = \"Lista Precios DEXA Seguridad Electrónica S.R.L. {}.xlsx\".format(fecha_actual)\n",
    "\n",
    "# Esperar a que el archivo se descargue completamente\n",
    "while not os.path.exists(os.path.join(download_folder, nombre_archivo_descargado)):\n",
    "    time.sleep(1)\n",
    "\n",
    "# Obtener la ruta completa del archivo descargado\n",
    "downloaded_file_path = os.path.join(download_folder, nombre_archivo_descargado)\n",
    "\n",
    "# Renombrar el archivo descargado a \"dexa.xlsx\"\n",
    "nuevo_nombre_archivo = \"dexa.xlsx\"\n",
    "nueva_ruta_archivo = os.path.join(download_folder, nuevo_nombre_archivo)\n",
    "os.rename(downloaded_file_path, nueva_ruta_archivo)\n",
    "\n"
   ]
  },
  {
   "cell_type": "code",
   "execution_count": null,
   "id": "39caab53",
   "metadata": {},
   "outputs": [],
   "source": [
    "#SELNET"
   ]
  },
  {
   "cell_type": "code",
   "execution_count": null,
   "id": "41d0c458",
   "metadata": {},
   "outputs": [],
   "source": [
    "#CONFIGURAR EL NOMBRE PARA LA DESCARGA DEL ARCHIVO!"
   ]
  },
  {
   "cell_type": "code",
   "execution_count": 29,
   "id": "8571e205",
   "metadata": {},
   "outputs": [
    {
     "data": {
      "text/plain": [
       "'C:\\\\Users\\\\Juan M Cabral\\\\Desktop\\\\Pycharm\\\\lista_de_precios_axon\\\\rawdata\\\\selnet.xlsx'"
      ]
     },
     "execution_count": 29,
     "metadata": {},
     "output_type": "execute_result"
    }
   ],
   "source": [
    "# URL del archivo zip en Dropbox\n",
    "url = \"https://www.dropbox.com/sh/c1y13dqqnqwgpfk/AADmt_8B5LUPatOkehCuIfrTa?dl=1\"\n",
    "\n",
    "# Realizar la solicitud GET para obtener el contenido del archivo zip\n",
    "response = requests.get(url)\n",
    "\n",
    "# Guardar el contenido del archivo zip en disco\n",
    "file_path = os.path.join(download_folder, \"archivo.zip\")\n",
    "with open(file_path, \"wb\") as file:\n",
    "    file.write(response.content)\n",
    "\n",
    "# Descomprimir el archivo zip en la carpeta de destino\n",
    "with zipfile.ZipFile(file_path, \"r\") as zip_ref:\n",
    "    zip_ref.extractall(download_folder)\n",
    "\n"
   ]
  }
 ],
 "metadata": {
  "kernelspec": {
   "display_name": "Python 3 (ipykernel)",
   "language": "python",
   "name": "python3"
  },
  "language_info": {
   "codemirror_mode": {
    "name": "ipython",
    "version": 3
   },
   "file_extension": ".py",
   "mimetype": "text/x-python",
   "name": "python",
   "nbconvert_exporter": "python",
   "pygments_lexer": "ipython3",
   "version": "3.11.0"
  }
 },
 "nbformat": 4,
 "nbformat_minor": 5
}
