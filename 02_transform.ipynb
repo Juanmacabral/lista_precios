{
 "cells": [
  {
   "cell_type": "code",
   "execution_count": 1,
   "id": "7fe1dfad",
   "metadata": {},
   "outputs": [],
   "source": [
    "import time\n",
    "import requests\n",
    "from bs4 import BeautifulSoup\n",
    "from pathlib import Path\n",
    "import os\n",
    "import pandas as pd\n",
    "import locale"
   ]
  },
  {
   "cell_type": "code",
   "execution_count": 2,
   "id": "03ceaae3",
   "metadata": {},
   "outputs": [
    {
     "name": "stdout",
     "output_type": "stream",
     "text": [
      "Valor del dólar: 267.88\n",
      "Se completó el proceso en 1 intentos\n"
     ]
    }
   ],
   "source": [
    "url = \"https://www.bcra.gob.ar/PublicacionesEstadisticas/Principales_variables.asp\"\n",
    "\n",
    "intentos_maximos = 10\n",
    "intentos = 0\n",
    "while intentos < intentos_maximos:\n",
    "    try:\n",
    "        response = requests.get(url)\n",
    "        soup = BeautifulSoup(response.content, \"html.parser\")\n",
    "        td_element = soup.find('td', string='Tipo de Cambio Minorista ($ por US$) Comunicación B 9791 - Promedio vendedor')\n",
    "        if td_element:\n",
    "            td_siblings = td_element.find_next_siblings('td')\n",
    "            value = td_siblings[1].text.strip()\n",
    "            value = value.split('/')[0].strip().replace(',', '.')\n",
    "            dolar = float(value)\n",
    "            print(f\"Valor del dólar: {dolar}\")\n",
    "            print(f\"Se completó el proceso en {intentos+1} intentos\")\n",
    "            break\n",
    "    except:\n",
    "        pass\n",
    "    intentos += 1\n",
    "    time.sleep(4)\n",
    "\n",
    "if intentos == intentos_maximos:\n",
    "    print(\"No se pudo completar el proceso después de 10 intentos\")"
   ]
  },
  {
   "cell_type": "code",
   "execution_count": 3,
   "id": "24fa2b28",
   "metadata": {},
   "outputs": [],
   "source": [
    "hojas_descarte = ['¿Quienes somos']\n",
    "\n",
    "def procesar_archivo_excel(nombre_archivo, hojas_descarte):\n",
    "    # Leer el archivo Excel\n",
    "    xls = pd.ExcelFile(nombre_archivo)\n",
    "\n",
    "    # Obtener las hojas del archivo\n",
    "    hojas_dexa = [hoja for hoja in xls.sheet_names if hoja != hojas_descarte]\n",
    "\n",
    "    # Leer cada hoja y almacenarla en un diccionario de DataFrames\n",
    "    dfs_dexa = {}\n",
    "    for hoja in hojas_dexa:\n",
    "        dfs_dexa[hoja] = pd.read_excel(xls, sheet_name=hoja)\n",
    "\n",
    "    return dfs_dexa\n",
    "\n",
    "def agregar_columna_proveedor(df, proveedor):\n",
    "    df.insert(0, \"proveedor\", proveedor)\n",
    "    return df\n",
    "\n",
    "def calcular_usd_final(df, columna, columna_iva, posicion):\n",
    "    df.insert(posicion, 'USD Final', df[columna] * (1 + df[columna_iva] / 100))\n",
    "    return df\n",
    "\n",
    "def calcular_ars_neto(df, columna, posicion):\n",
    "    df.insert(posicion, 'ARS neto', df[columna] * dolar)\n",
    "    return df\n",
    "\n",
    "def calcular_ars_final(df, columna, posicion):\n",
    "    df.insert(posicion, 'ARS final', df[columna] * dolar)\n",
    "    return df"
   ]
  },
  {
   "cell_type": "code",
   "execution_count": 4,
   "id": "50f62c5b",
   "metadata": {},
   "outputs": [],
   "source": [
    "ruta_rawdata = Path.cwd() / 'rawdata'\n",
    "\n",
    "# Cambiar al directorio rawdata\n",
    "ruta_rawdata = ruta_rawdata.resolve()\n",
    "os.chdir(ruta_rawdata)"
   ]
  },
  {
   "cell_type": "code",
   "execution_count": 5,
   "id": "02c13244",
   "metadata": {},
   "outputs": [
    {
     "data": {
      "text/plain": [
       "['dexa.xlsx', 'Lista de precios - GREMIO.xlsx', 'sawerin.xlsx', 'ts.xlsx']"
      ]
     },
     "execution_count": 5,
     "metadata": {},
     "output_type": "execute_result"
    }
   ],
   "source": [
    "os.listdir()"
   ]
  },
  {
   "cell_type": "code",
   "execution_count": 6,
   "id": "76c9fd2d",
   "metadata": {},
   "outputs": [],
   "source": [
    "dfs_dexa = procesar_archivo_excel('dexa.xlsx', hojas_descarte)"
   ]
  },
  {
   "cell_type": "code",
   "execution_count": 7,
   "id": "97028eb9",
   "metadata": {},
   "outputs": [],
   "source": [
    "#DEXA!"
   ]
  },
  {
   "cell_type": "code",
   "execution_count": 8,
   "id": "a8ef2566",
   "metadata": {},
   "outputs": [],
   "source": [
    "for hoja, df in dfs_dexa.items():\n",
    "    dfs_dexa[hoja] = df.iloc[3:]\n",
    "\n",
    "# Concatenar todas las hojas en un solo DataFrame\n",
    "dexa_final = pd.concat(dfs_dexa.values())\n",
    "# Obtener la primera fila como encabezado\n",
    "encabezado = dexa_final.iloc[0]\n",
    "\n",
    "# Asignar la primera fila como nombres de columnas\n",
    "dexa_final.columns = encabezado\n",
    "\n",
    "dexa_final = dexa_final.drop(['Imagen Ref.', 'Código'], axis=1)\n",
    "dexa_final = dexa_final.dropna()\n",
    "agregar_columna_proveedor(dexa_final, \"Dexa\")\n",
    "dexa_final = dexa_final.drop(dexa_final[dexa_final['Stock'] == 'Stock'].index)\n",
    "dexa_final['Stock'] = dexa_final['Stock'].replace({'Alto': 'Stock Alto', 'Consultar': 'Consultar Stock'})\n",
    "nuevos_nombres = {'Marca': 'Fabricante', 'Precio': 'usd neto', 'Stock': 'Observacion'}\n",
    "dexa_final = dexa_final.rename(columns=nuevos_nombres)\n",
    "columnas_ordenadas = ['proveedor', 'Fabricante', 'Modelo', 'Descripción','IVA %', 'usd neto', 'Observacion']\n",
    "dexa_final = dexa_final[columnas_ordenadas]\n",
    "dexa_final[\"IVA %\"] = dexa_final[\"IVA %\"].astype(float)\n",
    "#pasar valores de 'usd neto' a float (fue medio problematico, despues hay que documentar bien)\n",
    "locale.setlocale(locale.LC_ALL, 'en_US.UTF-8')\n",
    "dexa_final[\"usd neto\"] = dexa_final[\"usd neto\"].apply(lambda x: locale.atof(x) if isinstance(x, str) else x)\n",
    "calcular_usd_final(dexa_final, 'usd neto', 'IVA %',6)\n",
    "calcular_ars_neto(dexa_final,'usd neto',7)\n",
    "calcular_ars_final(dexa_final,'USD Final',8)\n",
    "dexa_final = dexa_final.round(2)"
   ]
  },
  {
   "cell_type": "code",
   "execution_count": 9,
   "id": "cde52345",
   "metadata": {},
   "outputs": [],
   "source": [
    "dfs_sawerin = procesar_archivo_excel('sawerin.xlsx', hojas_descarte)"
   ]
  },
  {
   "cell_type": "code",
   "execution_count": 11,
   "id": "a8199a58",
   "metadata": {},
   "outputs": [],
   "source": [
    "for hoja, df in dfs_sawerin.items():\n",
    "    dfs_sawerin[hoja] = df.iloc[8:]"
   ]
  },
  {
   "cell_type": "code",
   "execution_count": 12,
   "id": "8d658bc6",
   "metadata": {},
   "outputs": [],
   "source": [
    "# Concatenar todas las hojas en un solo DataFrame\n",
    "sawerin_final = pd.concat(dfs_sawerin.values())"
   ]
  },
  {
   "cell_type": "code",
   "execution_count": 14,
   "id": "453bd2b5",
   "metadata": {},
   "outputs": [],
   "source": [
    "# Obtener la primera fila como encabezado\n",
    "encabezado = sawerin_final.iloc[0]\n",
    "\n",
    "# Asignar la primera fila como nombres de columnas\n",
    "sawerin_final.columns = encabezado"
   ]
  },
  {
   "cell_type": "code",
   "execution_count": 20,
   "id": "2d34672f",
   "metadata": {},
   "outputs": [],
   "source": [
    "sawerin_final = sawerin_final.drop(['Mas Datos', 'Cod.'], axis=1)\n",
    "agregar_columna_proveedor(sawerin_final, \"Sawerin\")\n",
    "columnas = ['Descripcion', 'IVA', 'U$S + IVA', 'U$S IVA inc', 'Stock']\n",
    "\n",
    "# Eliminar las filas donde las celdas de las columnas especificadas sean NaN\n",
    "sawerin_final = sawerin_final.dropna(subset=columnas, how='all')"
   ]
  },
  {
   "cell_type": "code",
   "execution_count": 33,
   "id": "167a5346",
   "metadata": {},
   "outputs": [],
   "source": []
  },
  {
   "cell_type": "code",
   "execution_count": 35,
   "id": "df3b21d7",
   "metadata": {},
   "outputs": [
    {
     "data": {
      "text/html": [
       "<div>\n",
       "<style scoped>\n",
       "    .dataframe tbody tr th:only-of-type {\n",
       "        vertical-align: middle;\n",
       "    }\n",
       "\n",
       "    .dataframe tbody tr th {\n",
       "        vertical-align: top;\n",
       "    }\n",
       "\n",
       "    .dataframe thead th {\n",
       "        text-align: right;\n",
       "    }\n",
       "</style>\n",
       "<table border=\"1\" class=\"dataframe\">\n",
       "  <thead>\n",
       "    <tr style=\"text-align: right;\">\n",
       "      <th>8</th>\n",
       "      <th>proveedor</th>\n",
       "      <th>Modelo</th>\n",
       "      <th>Descripcion</th>\n",
       "      <th>IVA</th>\n",
       "      <th>U$S + IVA</th>\n",
       "      <th>U$S IVA inc</th>\n",
       "      <th>Stock</th>\n",
       "    </tr>\n",
       "  </thead>\n",
       "  <tbody>\n",
       "    <tr>\n",
       "      <th>8</th>\n",
       "      <td>Sawerin</td>\n",
       "      <td>Modelo</td>\n",
       "      <td>Descripcion</td>\n",
       "      <td>IVA</td>\n",
       "      <td>U$S + IVA</td>\n",
       "      <td>U$S IVA inc</td>\n",
       "      <td>Stock</td>\n",
       "    </tr>\n",
       "    <tr>\n",
       "      <th>10</th>\n",
       "      <td>Sawerin</td>\n",
       "      <td>CubeG-5ac60ad</td>\n",
       "      <td>CubeG-5ac60ad</td>\n",
       "      <td>10.50 %</td>\n",
       "      <td>U$S 381.62</td>\n",
       "      <td>U$S 421.69</td>\n",
       "      <td>0</td>\n",
       "    </tr>\n",
       "    <tr>\n",
       "      <th>12</th>\n",
       "      <td>Sawerin</td>\n",
       "      <td>K-79</td>\n",
       "      <td>RB5009 rackmount kit K-79</td>\n",
       "      <td>21.00 %</td>\n",
       "      <td>U$S 18.18</td>\n",
       "      <td>U$S 22.00</td>\n",
       "      <td>28</td>\n",
       "    </tr>\n",
       "    <tr>\n",
       "      <th>14</th>\n",
       "      <td>Sawerin</td>\n",
       "      <td>18POW</td>\n",
       "      <td>Fuente 24V 0,8A</td>\n",
       "      <td>21.00 %</td>\n",
       "      <td>U$S 31.25</td>\n",
       "      <td>U$S 37.81</td>\n",
       "      <td>0</td>\n",
       "    </tr>\n",
       "    <tr>\n",
       "      <th>15</th>\n",
       "      <td>Sawerin</td>\n",
       "      <td>24HPOW</td>\n",
       "      <td>Fuente 24V 2.5A</td>\n",
       "      <td>21.00 %</td>\n",
       "      <td>U$S 64.06</td>\n",
       "      <td>U$S 77.51</td>\n",
       "      <td>0</td>\n",
       "    </tr>\n",
       "    <tr>\n",
       "      <th>...</th>\n",
       "      <td>...</td>\n",
       "      <td>...</td>\n",
       "      <td>...</td>\n",
       "      <td>...</td>\n",
       "      <td>...</td>\n",
       "      <td>...</td>\n",
       "      <td>...</td>\n",
       "    </tr>\n",
       "    <tr>\n",
       "      <th>12</th>\n",
       "      <td>Sawerin</td>\n",
       "      <td>HG8247H5</td>\n",
       "      <td>HUAWEI EchoLife HG8247H5 CATV</td>\n",
       "      <td>10.50 %</td>\n",
       "      <td>U$S 159.28</td>\n",
       "      <td>U$S 176.00</td>\n",
       "      <td>1510</td>\n",
       "    </tr>\n",
       "    <tr>\n",
       "      <th>14</th>\n",
       "      <td>Sawerin</td>\n",
       "      <td>NaN</td>\n",
       "      <td>UPS2000G 3KVA Single phase in</td>\n",
       "      <td>10.50 %</td>\n",
       "      <td>U$S 674.21</td>\n",
       "      <td>U$S 745.00</td>\n",
       "      <td>0</td>\n",
       "    </tr>\n",
       "    <tr>\n",
       "      <th>15</th>\n",
       "      <td>Sawerin</td>\n",
       "      <td>UPS2000G 1KVA</td>\n",
       "      <td>UPS2000G 1KVA Single phase in</td>\n",
       "      <td>10.50 %</td>\n",
       "      <td>U$S 411.76</td>\n",
       "      <td>U$S 455.00</td>\n",
       "      <td>46</td>\n",
       "    </tr>\n",
       "    <tr>\n",
       "      <th>16</th>\n",
       "      <td>Sawerin</td>\n",
       "      <td>UPS2000G 2KVA</td>\n",
       "      <td>UPS2000G 2KVA Single phase in</td>\n",
       "      <td>10.50 %</td>\n",
       "      <td>U$S 671.49</td>\n",
       "      <td>U$S 742.00</td>\n",
       "      <td>0</td>\n",
       "    </tr>\n",
       "    <tr>\n",
       "      <th>8</th>\n",
       "      <td>Sawerin</td>\n",
       "      <td>Modelo</td>\n",
       "      <td>Descripcion</td>\n",
       "      <td>IVA</td>\n",
       "      <td>U$S + IVA</td>\n",
       "      <td>U$S IVA inc</td>\n",
       "      <td>Stock</td>\n",
       "    </tr>\n",
       "  </tbody>\n",
       "</table>\n",
       "<p>646 rows × 7 columns</p>\n",
       "</div>"
      ],
      "text/plain": [
       "8  proveedor         Modelo                    Descripcion      IVA  \\\n",
       "8    Sawerin         Modelo                    Descripcion      IVA   \n",
       "10   Sawerin  CubeG-5ac60ad                  CubeG-5ac60ad  10.50 %   \n",
       "12   Sawerin           K-79      RB5009 rackmount kit K-79  21.00 %   \n",
       "14   Sawerin          18POW                Fuente 24V 0,8A  21.00 %   \n",
       "15   Sawerin         24HPOW               Fuente 24V 2.5A   21.00 %   \n",
       "..       ...            ...                            ...      ...   \n",
       "12   Sawerin       HG8247H5  HUAWEI EchoLife HG8247H5 CATV  10.50 %   \n",
       "14   Sawerin            NaN  UPS2000G 3KVA Single phase in  10.50 %   \n",
       "15   Sawerin  UPS2000G 1KVA  UPS2000G 1KVA Single phase in  10.50 %   \n",
       "16   Sawerin  UPS2000G 2KVA  UPS2000G 2KVA Single phase in  10.50 %   \n",
       "8    Sawerin         Modelo                    Descripcion      IVA   \n",
       "\n",
       "8    U$S + IVA  U$S IVA inc  Stock  \n",
       "8    U$S + IVA  U$S IVA inc  Stock  \n",
       "10  U$S 381.62   U$S 421.69      0  \n",
       "12   U$S 18.18    U$S 22.00     28  \n",
       "14   U$S 31.25    U$S 37.81      0  \n",
       "15   U$S 64.06    U$S 77.51      0  \n",
       "..         ...          ...    ...  \n",
       "12  U$S 159.28   U$S 176.00   1510  \n",
       "14  U$S 674.21   U$S 745.00      0  \n",
       "15  U$S 411.76   U$S 455.00     46  \n",
       "16  U$S 671.49   U$S 742.00      0  \n",
       "8    U$S + IVA  U$S IVA inc  Stock  \n",
       "\n",
       "[646 rows x 7 columns]"
      ]
     },
     "execution_count": 35,
     "metadata": {},
     "output_type": "execute_result"
    }
   ],
   "source": [
    "sawerin_final"
   ]
  },
  {
   "cell_type": "code",
   "execution_count": null,
   "id": "0eb78de7",
   "metadata": {},
   "outputs": [],
   "source": []
  }
 ],
 "metadata": {
  "kernelspec": {
   "display_name": "Python 3 (ipykernel)",
   "language": "python",
   "name": "python3"
  },
  "language_info": {
   "codemirror_mode": {
    "name": "ipython",
    "version": 3
   },
   "file_extension": ".py",
   "mimetype": "text/x-python",
   "name": "python",
   "nbconvert_exporter": "python",
   "pygments_lexer": "ipython3",
   "version": "3.11.0"
  }
 },
 "nbformat": 4,
 "nbformat_minor": 5
}
